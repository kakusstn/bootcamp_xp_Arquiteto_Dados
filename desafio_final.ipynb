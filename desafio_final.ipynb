{
 "cells": [
  {
   "cell_type": "code",
   "execution_count": 1,
   "metadata": {},
   "outputs": [],
   "source": [
    "import pandas as pd"
   ]
  },
  {
   "cell_type": "code",
   "execution_count": 2,
   "metadata": {},
   "outputs": [
    {
     "data": {
      "text/plain": [
       "nome_medico           1013\n",
       "especialidade         1013\n",
       "motivo_licença        1013\n",
       "id_colaborador        1013\n",
       "nome_colaborador      1013\n",
       "data_nascimento       1013\n",
       "estado_colaborador    1013\n",
       "sexo_colaborador      1013\n",
       "inicio_licenca        1013\n",
       "fim_licenca           1013\n",
       "duracao_licensa       1013\n",
       "idade                 1013\n",
       "escolaridade          1013\n",
       "salario                995\n",
       "qtd_filhos            1007\n",
       "hobbie                1013\n",
       "possui_pet            1013\n",
       "estado_civil          1008\n",
       "dtype: int64"
      ]
     },
     "execution_count": 2,
     "metadata": {},
     "output_type": "execute_result"
    }
   ],
   "source": [
    "df = pd.read_csv(r'C:\\Users\\kaua_\\OneDrive\\Documentos\\Bootcamp_xp\\arquiteto_big_data\\desafio_final\\dados_licencas_medicas.csv', sep=';', encoding='latin1')\n",
    "df.count()"
   ]
  },
  {
   "cell_type": "code",
   "execution_count": 3,
   "metadata": {},
   "outputs": [
    {
     "data": {
      "text/plain": [
       "nome_medico           967\n",
       "especialidade         967\n",
       "motivo_licença        967\n",
       "id_colaborador        967\n",
       "nome_colaborador      967\n",
       "data_nascimento       967\n",
       "estado_colaborador    967\n",
       "sexo_colaborador      967\n",
       "inicio_licenca        967\n",
       "fim_licenca           967\n",
       "duracao_licensa       967\n",
       "idade                 967\n",
       "escolaridade          967\n",
       "salario               967\n",
       "qtd_filhos            967\n",
       "hobbie                967\n",
       "possui_pet            967\n",
       "estado_civil          967\n",
       "dtype: int64"
      ]
     },
     "execution_count": 3,
     "metadata": {},
     "output_type": "execute_result"
    }
   ],
   "source": [
    "df = df.drop_duplicates()\n",
    "df = df.dropna()\n",
    "df.count()"
   ]
  },
  {
   "cell_type": "code",
   "execution_count": 4,
   "metadata": {},
   "outputs": [
    {
     "data": {
      "text/html": [
       "<div>\n",
       "<style scoped>\n",
       "    .dataframe tbody tr th:only-of-type {\n",
       "        vertical-align: middle;\n",
       "    }\n",
       "\n",
       "    .dataframe tbody tr th {\n",
       "        vertical-align: top;\n",
       "    }\n",
       "\n",
       "    .dataframe thead th {\n",
       "        text-align: right;\n",
       "    }\n",
       "</style>\n",
       "<table border=\"1\" class=\"dataframe\">\n",
       "  <thead>\n",
       "    <tr style=\"text-align: right;\">\n",
       "      <th></th>\n",
       "      <th>nome_medico</th>\n",
       "      <th>especialidade</th>\n",
       "      <th>motivo_licença</th>\n",
       "      <th>id_colaborador</th>\n",
       "      <th>nome_colaborador</th>\n",
       "      <th>data_nascimento</th>\n",
       "      <th>estado_colaborador</th>\n",
       "      <th>sexo_colaborador</th>\n",
       "      <th>inicio_licenca</th>\n",
       "      <th>fim_licenca</th>\n",
       "      <th>duracao_licensa</th>\n",
       "      <th>idade</th>\n",
       "      <th>escolaridade</th>\n",
       "      <th>salario</th>\n",
       "      <th>qtd_filhos</th>\n",
       "      <th>hobbie</th>\n",
       "      <th>possui_pet</th>\n",
       "      <th>estado_civil</th>\n",
       "    </tr>\n",
       "  </thead>\n",
       "  <tbody>\n",
       "    <tr>\n",
       "      <th>0</th>\n",
       "      <td>Dr. Pedro</td>\n",
       "      <td>Clínico geral</td>\n",
       "      <td>Acidente de trabalho</td>\n",
       "      <td>2</td>\n",
       "      <td>Sophie Aragão</td>\n",
       "      <td>27/03/1970</td>\n",
       "      <td>Rio Grande do Sul</td>\n",
       "      <td>Feminino</td>\n",
       "      <td>22/10/2022</td>\n",
       "      <td>27/10/2022</td>\n",
       "      <td>5</td>\n",
       "      <td>53</td>\n",
       "      <td>Fundamental</td>\n",
       "      <td>3966.24</td>\n",
       "      <td>2.0</td>\n",
       "      <td>Música</td>\n",
       "      <td>Sim</td>\n",
       "      <td>Solteiro(a)</td>\n",
       "    </tr>\n",
       "    <tr>\n",
       "      <th>1</th>\n",
       "      <td>Dr. Marcelo</td>\n",
       "      <td>Clínico geral</td>\n",
       "      <td>Acidente de trajeto</td>\n",
       "      <td>6</td>\n",
       "      <td>Juliana da Luz</td>\n",
       "      <td>25/06/1957</td>\n",
       "      <td>Ceará</td>\n",
       "      <td>Feminino</td>\n",
       "      <td>15/08/2023</td>\n",
       "      <td>04/09/2023</td>\n",
       "      <td>20</td>\n",
       "      <td>65</td>\n",
       "      <td>Médio</td>\n",
       "      <td>8924.56</td>\n",
       "      <td>4.0</td>\n",
       "      <td>Artes</td>\n",
       "      <td>Não</td>\n",
       "      <td>Casado(a)</td>\n",
       "    </tr>\n",
       "    <tr>\n",
       "      <th>2</th>\n",
       "      <td>Dr. Gustavo</td>\n",
       "      <td>Clínico geral</td>\n",
       "      <td>Enfermidade de filhos pequenos</td>\n",
       "      <td>7</td>\n",
       "      <td>Marina da Rocha</td>\n",
       "      <td>06/01/1978</td>\n",
       "      <td>Rio Grande do Norte</td>\n",
       "      <td>Feminino</td>\n",
       "      <td>02/04/2023</td>\n",
       "      <td>01/05/2023</td>\n",
       "      <td>29</td>\n",
       "      <td>45</td>\n",
       "      <td>Fundamental</td>\n",
       "      <td>4020.64</td>\n",
       "      <td>1.0</td>\n",
       "      <td>Leitura</td>\n",
       "      <td>Não</td>\n",
       "      <td>Viúvo(a)</td>\n",
       "    </tr>\n",
       "    <tr>\n",
       "      <th>3</th>\n",
       "      <td>Dr. Lucas</td>\n",
       "      <td>Clínico geral</td>\n",
       "      <td>Comum</td>\n",
       "      <td>11</td>\n",
       "      <td>Davi da Mota</td>\n",
       "      <td>27/09/1956</td>\n",
       "      <td>Tocantins</td>\n",
       "      <td>Masculino</td>\n",
       "      <td>09/03/2023</td>\n",
       "      <td>30/03/2023</td>\n",
       "      <td>21</td>\n",
       "      <td>66</td>\n",
       "      <td>Fundamental</td>\n",
       "      <td>6680.35</td>\n",
       "      <td>2.0</td>\n",
       "      <td>Artes</td>\n",
       "      <td>Não</td>\n",
       "      <td>Viúvo(a)</td>\n",
       "    </tr>\n",
       "    <tr>\n",
       "      <th>4</th>\n",
       "      <td>Dr. Pedro</td>\n",
       "      <td>Clínico geral</td>\n",
       "      <td>Acidente de trabalho</td>\n",
       "      <td>12</td>\n",
       "      <td>Paulo Souza</td>\n",
       "      <td>09/04/1968</td>\n",
       "      <td>Roraima</td>\n",
       "      <td>Masculino</td>\n",
       "      <td>13/11/2023</td>\n",
       "      <td>04/12/2023</td>\n",
       "      <td>21</td>\n",
       "      <td>55</td>\n",
       "      <td>Fundamental</td>\n",
       "      <td>3038.72</td>\n",
       "      <td>3.0</td>\n",
       "      <td>Artes</td>\n",
       "      <td>Não</td>\n",
       "      <td>Divorciado(a)</td>\n",
       "    </tr>\n",
       "    <tr>\n",
       "      <th>...</th>\n",
       "      <td>...</td>\n",
       "      <td>...</td>\n",
       "      <td>...</td>\n",
       "      <td>...</td>\n",
       "      <td>...</td>\n",
       "      <td>...</td>\n",
       "      <td>...</td>\n",
       "      <td>...</td>\n",
       "      <td>...</td>\n",
       "      <td>...</td>\n",
       "      <td>...</td>\n",
       "      <td>...</td>\n",
       "      <td>...</td>\n",
       "      <td>...</td>\n",
       "      <td>...</td>\n",
       "      <td>...</td>\n",
       "      <td>...</td>\n",
       "      <td>...</td>\n",
       "    </tr>\n",
       "    <tr>\n",
       "      <th>990</th>\n",
       "      <td>Dr. Ricardo</td>\n",
       "      <td>Traumatologista</td>\n",
       "      <td>Acidente de trabalho</td>\n",
       "      <td>979</td>\n",
       "      <td>Caio da Paz</td>\n",
       "      <td>01/02/1956</td>\n",
       "      <td>Roraima</td>\n",
       "      <td>Masculino</td>\n",
       "      <td>22/05/2023</td>\n",
       "      <td>15/06/2023</td>\n",
       "      <td>24</td>\n",
       "      <td>67</td>\n",
       "      <td>Médio</td>\n",
       "      <td>9646.58</td>\n",
       "      <td>3.0</td>\n",
       "      <td>Leitura</td>\n",
       "      <td>Sim</td>\n",
       "      <td>Solteiro(a)</td>\n",
       "    </tr>\n",
       "    <tr>\n",
       "      <th>991</th>\n",
       "      <td>Dr. Ricardo</td>\n",
       "      <td>Traumatologista</td>\n",
       "      <td>Acidente de trajeto</td>\n",
       "      <td>985</td>\n",
       "      <td>Júlia Vieira</td>\n",
       "      <td>16/02/1961</td>\n",
       "      <td>Paraíba</td>\n",
       "      <td>Feminino</td>\n",
       "      <td>01/06/2023</td>\n",
       "      <td>28/06/2023</td>\n",
       "      <td>27</td>\n",
       "      <td>62</td>\n",
       "      <td>Fundamental</td>\n",
       "      <td>5831.13</td>\n",
       "      <td>4.0</td>\n",
       "      <td>Leitura</td>\n",
       "      <td>Sim</td>\n",
       "      <td>Solteiro(a)</td>\n",
       "    </tr>\n",
       "    <tr>\n",
       "      <th>992</th>\n",
       "      <td>Dr. Vinicius</td>\n",
       "      <td>Traumatologista</td>\n",
       "      <td>Enfermidade de filhos pequenos</td>\n",
       "      <td>986</td>\n",
       "      <td>Alícia Ribeiro</td>\n",
       "      <td>19/05/1997</td>\n",
       "      <td>Mato Grosso</td>\n",
       "      <td>Feminino</td>\n",
       "      <td>08/04/2022</td>\n",
       "      <td>21/04/2022</td>\n",
       "      <td>13</td>\n",
       "      <td>26</td>\n",
       "      <td>Fundamental</td>\n",
       "      <td>7839.23</td>\n",
       "      <td>0.0</td>\n",
       "      <td>Música</td>\n",
       "      <td>Não</td>\n",
       "      <td>Solteiro(a)</td>\n",
       "    </tr>\n",
       "    <tr>\n",
       "      <th>993</th>\n",
       "      <td>Dr. Ricardo</td>\n",
       "      <td>Traumatologista</td>\n",
       "      <td>Acidente de trajeto</td>\n",
       "      <td>992</td>\n",
       "      <td>Caio da Cruz</td>\n",
       "      <td>28/04/1978</td>\n",
       "      <td>Piauí</td>\n",
       "      <td>Masculino</td>\n",
       "      <td>10/12/2023</td>\n",
       "      <td>28/12/2023</td>\n",
       "      <td>18</td>\n",
       "      <td>45</td>\n",
       "      <td>Médio</td>\n",
       "      <td>5411.13</td>\n",
       "      <td>0.0</td>\n",
       "      <td>Artes</td>\n",
       "      <td>Sim</td>\n",
       "      <td>Divorciado(a)</td>\n",
       "    </tr>\n",
       "    <tr>\n",
       "      <th>994</th>\n",
       "      <td>Dr. Ricardo</td>\n",
       "      <td>Traumatologista</td>\n",
       "      <td>Comum</td>\n",
       "      <td>993</td>\n",
       "      <td>Natália da Conceição</td>\n",
       "      <td>31/08/1966</td>\n",
       "      <td>Amapá</td>\n",
       "      <td>Feminino</td>\n",
       "      <td>08/02/2022</td>\n",
       "      <td>10/03/2022</td>\n",
       "      <td>30</td>\n",
       "      <td>56</td>\n",
       "      <td>Fundamental</td>\n",
       "      <td>5789.05</td>\n",
       "      <td>1.0</td>\n",
       "      <td>Viagens</td>\n",
       "      <td>Sim</td>\n",
       "      <td>Solteiro(a)</td>\n",
       "    </tr>\n",
       "  </tbody>\n",
       "</table>\n",
       "<p>967 rows × 18 columns</p>\n",
       "</div>"
      ],
      "text/plain": [
       "      nome_medico    especialidade                  motivo_licença  \\\n",
       "0       Dr. Pedro    Clínico geral            Acidente de trabalho   \n",
       "1     Dr. Marcelo    Clínico geral             Acidente de trajeto   \n",
       "2     Dr. Gustavo    Clínico geral  Enfermidade de filhos pequenos   \n",
       "3       Dr. Lucas    Clínico geral                           Comum   \n",
       "4       Dr. Pedro    Clínico geral            Acidente de trabalho   \n",
       "..            ...              ...                             ...   \n",
       "990   Dr. Ricardo  Traumatologista            Acidente de trabalho   \n",
       "991   Dr. Ricardo  Traumatologista             Acidente de trajeto   \n",
       "992  Dr. Vinicius  Traumatologista  Enfermidade de filhos pequenos   \n",
       "993   Dr. Ricardo  Traumatologista             Acidente de trajeto   \n",
       "994   Dr. Ricardo  Traumatologista                           Comum   \n",
       "\n",
       "     id_colaborador      nome_colaborador data_nascimento  \\\n",
       "0                 2         Sophie Aragão      27/03/1970   \n",
       "1                 6        Juliana da Luz      25/06/1957   \n",
       "2                 7       Marina da Rocha      06/01/1978   \n",
       "3                11          Davi da Mota      27/09/1956   \n",
       "4                12           Paulo Souza      09/04/1968   \n",
       "..              ...                   ...             ...   \n",
       "990             979           Caio da Paz      01/02/1956   \n",
       "991             985          Júlia Vieira      16/02/1961   \n",
       "992             986        Alícia Ribeiro      19/05/1997   \n",
       "993             992          Caio da Cruz      28/04/1978   \n",
       "994             993  Natália da Conceição      31/08/1966   \n",
       "\n",
       "      estado_colaborador sexo_colaborador inicio_licenca fim_licenca  \\\n",
       "0      Rio Grande do Sul         Feminino     22/10/2022  27/10/2022   \n",
       "1                  Ceará         Feminino     15/08/2023  04/09/2023   \n",
       "2    Rio Grande do Norte         Feminino     02/04/2023  01/05/2023   \n",
       "3              Tocantins        Masculino     09/03/2023  30/03/2023   \n",
       "4                Roraima        Masculino     13/11/2023  04/12/2023   \n",
       "..                   ...              ...            ...         ...   \n",
       "990              Roraima        Masculino     22/05/2023  15/06/2023   \n",
       "991              Paraíba         Feminino     01/06/2023  28/06/2023   \n",
       "992          Mato Grosso         Feminino     08/04/2022  21/04/2022   \n",
       "993                Piauí        Masculino     10/12/2023  28/12/2023   \n",
       "994                Amapá         Feminino     08/02/2022  10/03/2022   \n",
       "\n",
       "     duracao_licensa  idade escolaridade  salario  qtd_filhos   hobbie  \\\n",
       "0                  5     53  Fundamental  3966.24         2.0   Música   \n",
       "1                 20     65        Médio  8924.56         4.0    Artes   \n",
       "2                 29     45  Fundamental  4020.64         1.0  Leitura   \n",
       "3                 21     66  Fundamental  6680.35         2.0    Artes   \n",
       "4                 21     55  Fundamental  3038.72         3.0    Artes   \n",
       "..               ...    ...          ...      ...         ...      ...   \n",
       "990               24     67        Médio  9646.58         3.0  Leitura   \n",
       "991               27     62  Fundamental  5831.13         4.0  Leitura   \n",
       "992               13     26  Fundamental  7839.23         0.0   Música   \n",
       "993               18     45        Médio  5411.13         0.0    Artes   \n",
       "994               30     56  Fundamental  5789.05         1.0  Viagens   \n",
       "\n",
       "    possui_pet   estado_civil  \n",
       "0          Sim    Solteiro(a)  \n",
       "1          Não      Casado(a)  \n",
       "2          Não       Viúvo(a)  \n",
       "3          Não       Viúvo(a)  \n",
       "4          Não  Divorciado(a)  \n",
       "..         ...            ...  \n",
       "990        Sim    Solteiro(a)  \n",
       "991        Sim    Solteiro(a)  \n",
       "992        Não    Solteiro(a)  \n",
       "993        Sim  Divorciado(a)  \n",
       "994        Sim    Solteiro(a)  \n",
       "\n",
       "[967 rows x 18 columns]"
      ]
     },
     "execution_count": 4,
     "metadata": {},
     "output_type": "execute_result"
    }
   ],
   "source": [
    "df"
   ]
  },
  {
   "cell_type": "code",
   "execution_count": 5,
   "metadata": {},
   "outputs": [
    {
     "name": "stdout",
     "output_type": "stream",
     "text": [
      "A idade média dos colaboradores do sexo masculino que estão solteiros é: 43.31578947368421\n"
     ]
    }
   ],
   "source": [
    "\n",
    "filtro = (df['sexo_colaborador'] == 'Masculino') & (df['estado_civil'] == 'Solteiro(a)')\n",
    "colaboradores_filtrados = df[filtro]\n",
    "\n",
    "idade_media = colaboradores_filtrados['idade'].mean()\n",
    "\n",
    "print(\"A idade média dos colaboradores do sexo masculino que estão solteiros é:\", idade_media)\n"
   ]
  },
  {
   "cell_type": "code",
   "execution_count": 10,
   "metadata": {},
   "outputs": [
    {
     "name": "stdout",
     "output_type": "stream",
     "text": [
      "O motivo de licença mais frequentemente solicitado por mulheres com mais de 35 anos é: Comum\n"
     ]
    }
   ],
   "source": [
    "mulheres_mais_35 = df[(df['sexo_colaborador'] == 'Feminino') & (df['idade'] > 35)]\n",
    "\n",
    "motivo_mais_frequente = mulheres_mais_35['motivo_licença'].mode()[0]\n",
    "\n",
    "print(\"O motivo de licença mais frequentemente solicitado por mulheres com mais de 35 anos é:\", motivo_mais_frequente)\n"
   ]
  },
  {
   "cell_type": "code",
   "execution_count": 11,
   "metadata": {},
   "outputs": [
    {
     "name": "stdout",
     "output_type": "stream",
     "text": [
      "O médico que atendeu o maior número de colaboradores do estado de Minas Gerais é: Dr. Pedro\n"
     ]
    }
   ],
   "source": [
    "colaboradores_minas_gerais = df[df['estado_colaborador'] == 'Minas Gerais']\n",
    "\n",
    "atendimentos_por_medico = colaboradores_minas_gerais['nome_medico'].value_counts()\n",
    "\n",
    "medico_mais_atendimentos = atendimentos_por_medico.idxmax()\n",
    "\n",
    "print(\"O médico que atendeu o maior número de colaboradores do estado de Minas Gerais é:\", medico_mais_atendimentos)\n"
   ]
  },
  {
   "cell_type": "code",
   "execution_count": 12,
   "metadata": {},
   "outputs": [
    {
     "name": "stdout",
     "output_type": "stream",
     "text": [
      "O estado com o maior número de pessoas com ensino Fundamental que têm a leitura como hobby é: Santa Catarina\n"
     ]
    }
   ],
   "source": [
    "filtro = (df['escolaridade'] == 'Fundamental') & (df['hobbie'] == 'Leitura')\n",
    "fundamental_leitura_df = df[filtro]\n",
    "\n",
    "frequencia_por_estado = fundamental_leitura_df['estado_colaborador'].value_counts()\n",
    "\n",
    "estado_maior_frequencia = frequencia_por_estado.idxmax()\n",
    "\n",
    "print(\"O estado com o maior número de pessoas com ensino Fundamental que têm a leitura como hobby é:\", estado_maior_frequencia)\n"
   ]
  },
  {
   "cell_type": "code",
   "execution_count": 13,
   "metadata": {},
   "outputs": [
    {
     "name": "stdout",
     "output_type": "stream",
     "text": [
      "O número de pessoas com ensino superior que são naturais ou pertencem ao estado de Pernambuco é: 10\n"
     ]
    }
   ],
   "source": [
    "filtro = (df['escolaridade'] == 'Superior') & (df['estado_colaborador'] == 'Pernambuco')\n",
    "superior_pernambuco_df = df[filtro]\n",
    "\n",
    "numero_pessoas = len(superior_pernambuco_df)\n",
    "\n",
    "print(\"O número de pessoas com ensino superior que são naturais ou pertencem ao estado de Pernambuco é:\", numero_pessoas)\n"
   ]
  },
  {
   "cell_type": "code",
   "execution_count": 14,
   "metadata": {},
   "outputs": [
    {
     "name": "stdout",
     "output_type": "stream",
     "text": [
      "A média de filhos entre todas as pessoas atendidas pelo Dr. Lessa é: 2.3783783783783785\n"
     ]
    }
   ],
   "source": [
    "pessoas_dr_lessa = df[df['nome_medico'] == 'Dr. Lessa']\n",
    "\n",
    "media_filhos = pessoas_dr_lessa['qtd_filhos'].mean()\n",
    "\n",
    "print(\"A média de filhos entre todas as pessoas atendidas pelo Dr. Lessa é:\", media_filhos)\n"
   ]
  },
  {
   "cell_type": "code",
   "execution_count": 15,
   "metadata": {},
   "outputs": [
    {
     "name": "stdout",
     "output_type": "stream",
     "text": [
      "O colaborador com o maior salário na base de dados é:\n",
      "nome_medico                               Dr. Felipe\n",
      "especialidade                            Ortopedista\n",
      "motivo_licença        Enfermidade de filhos pequenos\n",
      "id_colaborador                                   873\n",
      "nome_colaborador                       Nathan Barros\n",
      "data_nascimento                           07/07/1976\n",
      "estado_colaborador                          Amazonas\n",
      "sexo_colaborador                           Masculino\n",
      "inicio_licenca                            25/08/2022\n",
      "fim_licenca                               30/08/2022\n",
      "duracao_licensa                                    5\n",
      "idade                                             46\n",
      "escolaridade                                   Médio\n",
      "salario                                     28543.95\n",
      "qtd_filhos                                       4.0\n",
      "hobbie                                       Viagens\n",
      "possui_pet                                       Não\n",
      "estado_civil                               Casado(a)\n",
      "Name: 594, dtype: object\n"
     ]
    }
   ],
   "source": [
    "colaborador_maior_salario = df.loc[df['salario'].idxmax()]\n",
    "\n",
    "print(\"O colaborador com o maior salário na base de dados é:\")\n",
    "print(colaborador_maior_salario)\n"
   ]
  },
  {
   "cell_type": "code",
   "execution_count": 16,
   "metadata": {},
   "outputs": [
    {
     "name": "stdout",
     "output_type": "stream",
     "text": [
      "O estado que apresenta a maior média salarial entre os colaboradores é: Minas Gerais\n",
      "A maior média salarial encontrada é: 6193.154444444444\n"
     ]
    }
   ],
   "source": [
    "media_salarial_por_estado = df.groupby('estado_colaborador')['salario'].mean()\n",
    "\n",
    "estado_maior_media_salarial = media_salarial_por_estado.idxmax()\n",
    "\n",
    "maior_media_salarial = media_salarial_por_estado.max()\n",
    "\n",
    "print(\"O estado que apresenta a maior média salarial entre os colaboradores é:\", estado_maior_media_salarial)\n",
    "print(\"A maior média salarial encontrada é:\", maior_media_salarial)\n"
   ]
  },
  {
   "cell_type": "code",
   "execution_count": 17,
   "metadata": {},
   "outputs": [
    {
     "name": "stdout",
     "output_type": "stream",
     "text": [
      "A licença que teve a menor média de duração entre os colaboradores é: Acidente de trabalho\n",
      "A menor média de duração encontrada é: 14.93006993006993\n"
     ]
    }
   ],
   "source": [
    "media_duracao_por_licenca = df.groupby('motivo_licença')['duracao_licensa'].mean()\n",
    "\n",
    "licenca_menor_media_duracao = media_duracao_por_licenca.idxmin()\n",
    "\n",
    "menor_media_duracao = media_duracao_por_licenca.min()\n",
    "\n",
    "print(\"A licença que teve a menor média de duração entre os colaboradores é:\", licenca_menor_media_duracao)\n",
    "print(\"A menor média de duração encontrada é:\", menor_media_duracao)\n"
   ]
  },
  {
   "cell_type": "code",
   "execution_count": 18,
   "metadata": {},
   "outputs": [
    {
     "name": "stdout",
     "output_type": "stream",
     "text": [
      "A especialidade que realizou o menor número de atendimentos é: Ginecologista obstetra\n",
      "O número de atendimentos realizados por essa especialidade é: 145\n"
     ]
    }
   ],
   "source": [
    "atendimentos_por_especialidade = df['especialidade'].value_counts()\n",
    "\n",
    "especialidade_menor_atendimentos = atendimentos_por_especialidade.idxmin()\n",
    "\n",
    "menor_numero_atendimentos = atendimentos_por_especialidade.min()\n",
    "\n",
    "print(\"A especialidade que realizou o menor número de atendimentos é:\", especialidade_menor_atendimentos)\n",
    "print(\"O número de atendimentos realizados por essa especialidade é:\", menor_numero_atendimentos)\n"
   ]
  }
 ],
 "metadata": {
  "kernelspec": {
   "display_name": "Python 3",
   "language": "python",
   "name": "python3"
  },
  "language_info": {
   "codemirror_mode": {
    "name": "ipython",
    "version": 3
   },
   "file_extension": ".py",
   "mimetype": "text/x-python",
   "name": "python",
   "nbconvert_exporter": "python",
   "pygments_lexer": "ipython3",
   "version": "3.10.11"
  }
 },
 "nbformat": 4,
 "nbformat_minor": 2
}
