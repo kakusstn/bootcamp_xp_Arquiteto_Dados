{
 "cells": [
  {
   "cell_type": "code",
   "execution_count": null,
   "metadata": {},
   "outputs": [],
   "source": [
    "# pip install pandasql"
   ]
  },
  {
   "cell_type": "code",
   "execution_count": null,
   "metadata": {},
   "outputs": [],
   "source": [
    "import pandas as pd\n",
    "import sqlalchemy\n"
   ]
  },
  {
   "cell_type": "code",
   "execution_count": null,
   "metadata": {},
   "outputs": [],
   "source": [
    "df = pd.read_csv(r'C:\\Users\\kaua_\\OneDrive\\Documentos\\Bootcamp_xp\\arquiteto_big_data\\desafio_final\\dados_licencas_medicas.csv', sep=';', encoding='latin1')\n",
    "df = df.drop_duplicates()\n",
    "df = df.dropna()\n",
    "df.count()"
   ]
  },
  {
   "cell_type": "code",
   "execution_count": null,
   "metadata": {},
   "outputs": [],
   "source": [
    "user= 'root'\n",
    "password= ''\n",
    "host= 'localhost'\n",
    "database= 'coleta_df'\n",
    "string_conexao= f'mysql://{user}:{password}@{host}/{database}'\n",
    "string_conexao\n",
    "\n",
    "engine = sqlalchemy.create_engine(string_conexao)\n",
    "conn= engine.connect()\n",
    "\n"
   ]
  },
  {
   "cell_type": "code",
   "execution_count": null,
   "metadata": {},
   "outputs": [],
   "source": [
    "df"
   ]
  },
  {
   "cell_type": "code",
   "execution_count": null,
   "metadata": {},
   "outputs": [],
   "source": [
    "\n",
    "colunas_esp= df['especialidade'].unique()\n",
    "colunas_esp= pd.DataFrame(colunas_esp, columns=['especialidade'])\n",
    "colunas_esp\n",
    "\n",
    "colunas_esp.to_sql('tb_especialidade',conn,if_exists='append', index=False)\n",
    "    "
   ]
  },
  {
   "cell_type": "code",
   "execution_count": null,
   "metadata": {},
   "outputs": [],
   "source": [
    "coluna_lic = df['motivo_licença'].unique()\n",
    "coluna_lic= pd.DataFrame(coluna_lic,columns=['motivo_licenca'])\n",
    "coluna_lic\n",
    "\n",
    "coluna_lic.to_sql('tb_motivo_licenca',conn,if_exists='append',index=False)"
   ]
  },
  {
   "cell_type": "code",
   "execution_count": null,
   "metadata": {},
   "outputs": [],
   "source": [
    "df_esp=pd.read_sql('select * from tb_especialidade', conn)\n",
    "df_esp"
   ]
  },
  {
   "cell_type": "code",
   "execution_count": null,
   "metadata": {},
   "outputs": [],
   "source": [
    "# test= \"\"\" select distinct a.nome_medico, b.cod_especialidade\n",
    "            \n",
    "#             from df a\n",
    "            \n",
    "#             left join df_esp b\n",
    "#             on b.especialidade=a.especialidade\n",
    "# \"\"\"\n",
    "\n",
    "\n",
    "df_med = pd.merge(df[['nome_medico', 'especialidade']], \n",
    "                  df_esp[['especialidade', 'cod_especialidade']], \n",
    "                  on='especialidade', \n",
    "                  how='left')\n",
    "\n",
    "df_med= df_med.drop_duplicates().reset_index()\n",
    "coluna_med= df_med[['nome_medico' , 'cod_especialidade']]\n",
    "coluna_med\n"
   ]
  },
  {
   "cell_type": "code",
   "execution_count": null,
   "metadata": {},
   "outputs": [],
   "source": [
    "coluna_med.to_sql('tb_medico',conn,if_exists='append',index=False)\n"
   ]
  },
  {
   "cell_type": "code",
   "execution_count": null,
   "metadata": {},
   "outputs": [],
   "source": [
    "coluna_est = df['estado_colaborador'].unique()\n",
    "coluna_est= pd.DataFrame(coluna_est,columns=['estado'])\n",
    "coluna_est\n",
    "\n",
    "coluna_est.to_sql('tb_estado',conn,if_exists='append',index=False)"
   ]
  },
  {
   "cell_type": "code",
   "execution_count": null,
   "metadata": {},
   "outputs": [],
   "source": [
    "tb_estado_civil = pd.read_sql('select * from tb_estado_civil', conn)\n",
    "tb_escolaridade = pd.read_sql('select * from tb_escolaridade',conn)\n",
    "tb_hobbie = pd.read_sql('select * from tb_hobbie', conn)\n",
    "tb_estado = pd.read_sql('select * from tb_estado', conn)"
   ]
  },
  {
   "cell_type": "code",
   "execution_count": null,
   "metadata": {},
   "outputs": [],
   "source": [
    "coluna_est_civil = df['estado_civil'].unique()\n",
    "coluna_est_civil= pd.DataFrame(coluna_est_civil,columns=['estado_civil'])\n",
    "\n",
    "coluna_est_civil\n",
    "\n",
    "coluna_est_civil.to_sql('tb_estado_civil',conn, if_exists='append', index=False)"
   ]
  },
  {
   "cell_type": "code",
   "execution_count": null,
   "metadata": {},
   "outputs": [],
   "source": [
    "coluna_esc = df['escolaridade'].unique()\n",
    "coluna_esc = pd.DataFrame(coluna_esc,columns=['escolaridade'])\n",
    "\n",
    "coluna_esc.to_sql('tb_escolaridade',conn,if_exists='append',index=False)"
   ]
  },
  {
   "cell_type": "code",
   "execution_count": null,
   "metadata": {},
   "outputs": [],
   "source": [
    "coluna_hobbie = df['hobbie'].unique()\n",
    "coluna_hobbie = pd.DataFrame(coluna_hobbie,columns=['hobbie'])\n",
    "\n",
    "coluna_hobbie.to_sql('tb_hobbie', engine, if_exists='append', index=False)"
   ]
  },
  {
   "cell_type": "code",
   "execution_count": null,
   "metadata": {},
   "outputs": [],
   "source": [
    "\n",
    "merged_df = pd.merge(df, tb_estado_civil, left_on='estado_civil', right_on='estado_civil', how='left')\n",
    "merged_df = pd.merge(merged_df, tb_escolaridade, left_on='escolaridade', right_on='escolaridade', how='left')\n",
    "merged_df = pd.merge(merged_df, tb_hobbie, left_on='hobbie', right_on='hobbie', how='left')\n",
    "merged_df = pd.merge(merged_df, tb_estado, left_on='estado_colaborador', right_on='estado', how='left')\n",
    "\n",
    "result = merged_df[['nome_colaborador', 'data_nascimento', 'sexo_colaborador', 'salario', 'qtd_filhos', 'possui_pet', 'cod_estado_civil', 'cod_escolaridade', 'cod_hobbie', 'cod_estado']]\n",
    "\n",
    "result = result.drop_duplicates()\n",
    "\n",
    "result.to_sql('tb_colaborador',conn,if_exists='append',index=False)\n"
   ]
  },
  {
   "cell_type": "code",
   "execution_count": null,
   "metadata": {},
   "outputs": [],
   "source": [
    "esp = pd.read_sql('select * from tb_especialidade',conn)\n",
    "lic = pd.read_sql('select * from tb_motivo_licenca',conn)\n",
    "colaborador = pd.read_sql('select * from tb_colaborador',conn)\n",
    "colaborador\n"
   ]
  },
  {
   "cell_type": "code",
   "execution_count": null,
   "metadata": {},
   "outputs": [],
   "source": [
    "\n",
    "merged_df = df.merge(esp, how='left', left_on='especialidade', right_on='especialidade')\n",
    "\n",
    "merged_df = merged_df.merge(lic, how='left', left_on='motivo_licença', right_on='motivo_licenca')\n",
    "\n",
    "merged_df = merged_df.merge(colaborador, how='left', left_on='nome_colaborador', right_on='nome_colaborador')\n",
    "\n",
    "merged_df.rename(columns={'duracao_licensa': 'duracao_licenca'}, inplace=True)\n",
    "\n",
    "colunas_desejadas = ['data_processamento', 'inicio_licenca', 'fim_licenca', 'duracao_licenca',\n",
    "                     'cod_especialidade', 'cod_motivo_licenca', 'cod_colaborador']\n",
    "\n",
    "\n",
    "for coluna in colunas_desejadas:\n",
    "    if coluna not in merged_df.columns:\n",
    "        merged_df = merged_df.assign(**{coluna: None})\n",
    "\n",
    "result = merged_df[colunas_desejadas]\n",
    "\n",
    "result.to_sql('tb_processamento_licenca',conn, if_exists='append', index=False)\n",
    "\n"
   ]
  }
 ],
 "metadata": {
  "kernelspec": {
   "display_name": "Python 3",
   "language": "python",
   "name": "python3"
  },
  "language_info": {
   "codemirror_mode": {
    "name": "ipython",
    "version": 3
   },
   "file_extension": ".py",
   "mimetype": "text/x-python",
   "name": "python",
   "nbconvert_exporter": "python",
   "pygments_lexer": "ipython3",
   "version": "3.10.11"
  }
 },
 "nbformat": 4,
 "nbformat_minor": 2
}
